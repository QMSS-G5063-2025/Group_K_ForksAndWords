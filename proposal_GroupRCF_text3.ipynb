{
 "cells": [
  {
   "cell_type": "markdown",
   "id": "d3584171",
   "metadata": {},
   "source": [
    "# Final Project Proposal: Text Analysis - ESG Signaling and Market Pricing\n",
    "\n",
    "\n",
    "## Self-assigned group letter： What Group Letter? Group RCF?\n",
    "\n",
    "## Team Members\n",
    "- Rong Xia rx2255@columbia.edu\n",
    "- Chengji Zhang cz2842@columbia.edu\n",
    "- Fung Chau fc2786@columbia.edu"
   ]
  },
  {
   "cell_type": "markdown",
   "id": "ddecb657",
   "metadata": {},
   "source": [
    "## Abstract\n",
    "Environmental, Social, and Governance (ESG) factors are becoming an essential component in corporate decision-making and investor sentiment. This project aims to analyze how ESG-related signaling in corporate earnings calls influences stock market pricing and corporate investment decisions. Using text analysis techniques, we will extract ESG mentions from earnings call transcripts and compare them with actual ESG performance metrics and stock price movements to investigate potential ESG mispricing.\n",
    "\n",
    "**Research Questions**： Does ESG-related signaling in earnings calls influence corporate investment decisions and market valuation? Is there evidence of ESG overpricing or mispricing?\n",
    "\n",
    "**Potential Hypothesis**: Firms with strong ESG messaging may attract higher valuations, but the relationship between ESG \"talk\" and actual ESG performance could reveal overpricing.\n",
    "\n",
    "NOTE: we have not decide how to determine what count as overprice/missprice. If we cannot find suitable indicator/formula, we will abondon the overpricing part and only research the correlation between ESG-related signaling in earnings calls and stock market price."
   ]
  },
  {
   "cell_type": "markdown",
   "id": "b5e74fb1",
   "metadata": {},
   "source": [
    "## Data Sources\n",
    "We will leverage datasets from [S&P Global Market Intelligence](https://wrds-www.wharton.upenn.edu/pages/about/data-vendors/sp-global-market-intelligence/) (via Wharton Research Data Services, WRDS), including:\n",
    "- **ciq_transcripts**: Extract firm's earnings call transcripts containing ESG mentions.\n",
    "- **ciq_transcriptcomponent**: Access section-specific transcript details (Q&A, management discussions).\n",
    "- **ciq_keydev**: Identify key corporate announcements related to ESG project or initiatives\n",
    "- **comp_na_daily_all**: Extract and Analyze stock price reactions around earnings call dates.\n",
    "- **sp_esg (S&P ESG)**: Assess actual ESG performance metrics for firms."
   ]
  },
  {
   "cell_type": "markdown",
   "id": "7169e309",
   "metadata": {},
   "source": [
    "## Potential Text Analysis Methods\n",
    "1. **Text Extraction**: Extract ESG-related terms (e.g., \"sustainability,\" \"carbon neutrality,\" \"diversity\") from transcripts.\n",
    "2. **Stock Price Event Study**: Measure abnormal returns around earnings call dates.\n",
    "3. **Regression Modeling**: Test the relationship between ESG mentions and market valuation.\n",
    "4. **Sentiment Analysis (Maybe will remove this)**: Assess the sentiment of ESG mentions using NLP techniques.\n"
   ]
  },
  {
   "cell_type": "markdown",
   "id": "3f13600a",
   "metadata": {},
   "source": [
    "## Possible Visualizations\n",
    "Main\n",
    "1. **Stock Reaction Scatter Plot**: Plot ESG mentions against stock price changes for individual companies to see if there is correlation\n",
    "2. **Correlation Table (With Explanation beside)**: Show correlation matrix\n",
    "\n",
    "Supplementary:\n",
    "1. **Word Cloud**: Display frequent ESG-related terms from earnings calls.\n",
    "2. **ESG Performance Scatter Plot**： Plot ESG mentions against ESG performance score of individual companies.\n",
    "3. **Stock Price bar plot**: Plot Stock prices of the top 10 companies with the highest ESG performance score."
   ]
  },
  {
   "cell_type": "markdown",
   "id": "fcfcd60d",
   "metadata": {},
   "source": [
    "## Challenges\n",
    "- **Data Access**: WRDS access limitations could affect dataset retrieval. For example, Columbia students does not have access to sp_esg (S&P ESG), but we have just requested access to see if I can get it.\n",
    "- **Runs too slow**: Since the dataset is super large (for example, the earnings call transcripts itself is 80 GB), so the code runs super slow. We have not found good solution for this issue yet.\n",
    "- **Text Processing Complexity**: Parsing unstructured earnings call transcripts may require advanced NLP techniques. Fung is taking NLP class so we will see how well he can learn.\n"
   ]
  }
 ],
 "metadata": {
  "kernelspec": {
   "display_name": "Python 3",
   "language": "python",
   "name": "python3"
  },
  "language_info": {
   "codemirror_mode": {
    "name": "ipython",
    "version": 3
   },
   "file_extension": ".py",
   "mimetype": "text/x-python",
   "name": "python",
   "nbconvert_exporter": "python",
   "pygments_lexer": "ipython3",
   "version": "3.12.1"
  }
 },
 "nbformat": 4,
 "nbformat_minor": 5
}
